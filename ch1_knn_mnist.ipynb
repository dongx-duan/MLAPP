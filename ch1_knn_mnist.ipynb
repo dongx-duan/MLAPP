{
 "cells": [
  {
   "cell_type": "code",
   "execution_count": 1,
   "metadata": {
    "collapsed": true
   },
   "outputs": [],
   "source": [
    "import gzip\n",
    "import os\n",
    "import tensorflow as tf\n",
    "import numpy"
   ]
  },
  {
   "cell_type": "code",
   "execution_count": 2,
   "metadata": {
    "collapsed": true
   },
   "outputs": [],
   "source": [
    "data_path = '/home/hadoop/data/mnist'\n",
    "def load_mnist():\n",
    "    train_data = os.path.join(data_path,'train-images-idx3-ubyte.gz')\n",
    "    train_label = os.path.join(data_path, 'train-labels-idx1-ubyte.gz')\n",
    "    test_data = os.path.join(data_path, 't10k-images-idx3-ubyte.gz')\n",
    "    test_label = os.path.join(data_path, 't10k-labels-idx1-ubyte.gz')\n",
    "    def _read32(bytestream):\n",
    "        return numpy.frombuffer(bytestream.read(4), \n",
    "                        dtype=numpy.dtype(numpy.uint32).newbyteorder('>'))[0]\n",
    "    \n",
    "    def _read_image(filename):\n",
    "        with tf.gfile.Open(filename, 'rb') as f, gzip.GzipFile(fileobj=f) as bytestream:\n",
    "            magic = _read32(bytestream)\n",
    "            if magic != 2051:\n",
    "              raise ValueError(\n",
    "                  'Invalid magic number %d in MNIST image file: %s' %\n",
    "                  (magic, filename))\n",
    "            num_images = _read32(bytestream)\n",
    "            rows = _read32(bytestream)\n",
    "            cols = _read32(bytestream)\n",
    "            buf = bytestream.read(rows * cols * num_images)\n",
    "            data = numpy.frombuffer(buf, dtype=numpy.uint8)\n",
    "            data = data.reshape(num_images, rows * cols)\n",
    "            return data.astype(numpy.float32)\n",
    "    \n",
    "    def _read_label(filename):\n",
    "        with tf.gfile.Open(filename, 'rb') as f, gzip.GzipFile(fileobj=f) as bytestream:\n",
    "            magic = _read32(bytestream)\n",
    "            if magic != 2049:\n",
    "                ValueError(\n",
    "                  'Invalid magic number %d in MNIST image file: %s' %\n",
    "                  (magic, filename))\n",
    "            num_labels = _read32(bytestream)\n",
    "            buf = bytestream.read(num_labels)\n",
    "            labels = numpy.frombuffer(buf, dtype=numpy.uint8)\n",
    "            return labels.astype(numpy.int32)\n",
    "    \n",
    "    return _read_image(train_data), _read_label(train_label), _read_image(test_data), _read_label(test_label)"
   ]
  },
  {
   "cell_type": "code",
   "execution_count": 3,
   "metadata": {
    "collapsed": false
   },
   "outputs": [],
   "source": [
    "train_data, train_label, test_data, test_label = load_mnist()\n",
    "assert(train_data.shape == (60000, 784))\n",
    "assert(train_label.shape == (60000,))\n",
    "assert(test_data.shape == (10000, 784))\n",
    "assert(test_label.shape == (10000,))\n",
    "\n",
    "# normalize image for knn\n",
    "train_data_norm = numpy.expand_dims( numpy.sqrt(numpy.sum(train_data * train_data, axis=1)), axis=1)\n",
    "train_data = numpy.divide(train_data, train_data_norm)\n",
    "\n",
    "test_data_norm = numpy.expand_dims( numpy.sqrt(numpy.sum(test_data * test_data, axis=1)), axis=1)\n",
    "test_data = numpy.divide(test_data, test_data_norm)"
   ]
  },
  {
   "cell_type": "code",
   "execution_count": 4,
   "metadata": {
    "collapsed": true
   },
   "outputs": [],
   "source": [
    "def knn_predict(_k):\n",
    "    image = tf.placeholder(tf.float32, shape=(None, 784))\n",
    "    y = tf.matmul(image, train_data, transpose_b=True)\n",
    "    predicts = tf.nn.top_k(y, k=_k)\n",
    "    return image, predicts\n",
    "# knn with k=1 or k=3 or k=5 for experiment"
   ]
  },
  {
   "cell_type": "code",
   "execution_count": 5,
   "metadata": {
    "collapsed": false
   },
   "outputs": [],
   "source": [
    "session = tf.Session()\n",
    "session.run(tf.initialize_all_variables())"
   ]
  },
  {
   "cell_type": "code",
   "execution_count": 6,
   "metadata": {
    "collapsed": false
   },
   "outputs": [],
   "source": [
    "image, pred = knn_predict(1)\n",
    "# this may take few seconds\n",
    "p_value, p_labels = session.run(pred, feed_dict={image:test_data[:10000]})"
   ]
  },
  {
   "cell_type": "code",
   "execution_count": 7,
   "metadata": {
    "collapsed": false
   },
   "outputs": [
    {
     "name": "stdout",
     "output_type": "stream",
     "text": [
      "0.9723\n"
     ]
    }
   ],
   "source": [
    "from collections import Counter\n",
    "accurary = 0\n",
    "correct = [Counter(a).most_common()[0][0] for a in train_label[p_labels]]\n",
    "correct_count = sum(correct[i] == test_label[i] for i in range(len(test_label[:10000])))\n",
    "accurary = correct_count * 1.0 / len(test_label[:10000])\n",
    "print accurary"
   ]
  }
 ],
 "metadata": {
  "kernelspec": {
   "display_name": "Python 2",
   "language": "python",
   "name": "python2"
  },
  "language_info": {
   "codemirror_mode": {
    "name": "ipython",
    "version": 2
   },
   "file_extension": ".py",
   "mimetype": "text/x-python",
   "name": "python",
   "nbconvert_exporter": "python",
   "pygments_lexer": "ipython2",
   "version": "2.7.11"
  }
 },
 "nbformat": 4,
 "nbformat_minor": 0
}
